{
  "nbformat": 4,
  "nbformat_minor": 0,
  "metadata": {
    "colab": {
      "provenance": [],
      "collapsed_sections": [
        "SqcwQlgc0TNh",
        "0CBkVCbz0Jdr"
      ],
      "authorship_tag": "ABX9TyN1vnxmzricHo6cgrZzFNVZ",
      "include_colab_link": true
    },
    "kernelspec": {
      "name": "python3",
      "display_name": "Python 3"
    },
    "language_info": {
      "name": "python"
    }
  },
  "cells": [
    {
      "cell_type": "markdown",
      "metadata": {
        "id": "view-in-github",
        "colab_type": "text"
      },
      "source": [
        "<a href=\"https://colab.research.google.com/github/karenscps123/SHADE-22-Datathon-Team-14/blob/main/EDA%20on%20Final%20main%20cohort.ipynb\" target=\"_parent\"><img src=\"https://colab.research.google.com/assets/colab-badge.svg\" alt=\"Open In Colab\"/></a>"
      ]
    },
    {
      "cell_type": "code",
      "execution_count": null,
      "metadata": {
        "colab": {
          "base_uri": "https://localhost:8080/",
          "height": 530
        },
        "id": "F7AjYzMVrY01",
        "outputId": "6b0dfadd-b4e4-4d03-d7cc-5c9f2b8e2882"
      },
      "outputs": [
        {
          "output_type": "execute_result",
          "data": {
            "text/plain": [
              "   subject_id  hospital_expire_flag deathtime gender   age         dod  \\\n",
              "0  12641866.0                   0.0       NaN      M  74.0         NaN   \n",
              "1  12650542.0                   0.0       NaN      F  91.0  2115-03-01   \n",
              "2  12652467.0                   0.0       NaN      M  61.0         NaN   \n",
              "3  12656796.0                   0.0       NaN      M  70.0         NaN   \n",
              "4  12659688.0                   0.0       NaN      M  75.0  2127-04-13   \n",
              "\n",
              "        hosp_admittime           icu_intime          icu_outtime  \\\n",
              "0  2165-11-22 21:46:00  2165-11-22 21:48:38  2165-12-01 12:14:52   \n",
              "1  2114-11-09 18:35:00  2114-11-09 19:38:49  2114-11-10 17:50:14   \n",
              "2  2176-10-21 12:25:00  2176-10-21 12:26:01  2176-10-24 15:30:49   \n",
              "3  2150-08-06 06:08:00  2150-08-06 07:24:00  2150-08-12 17:51:17   \n",
              "4  2125-04-18 00:20:00  2125-04-18 05:27:11  2125-04-19 15:42:15   \n",
              "\n",
              "                        T0   delta_T  \n",
              "0  2165-11-22 21:20:00 UTC  0.522581  \n",
              "1  2114-11-10 01:12:00 UTC  0.250000  \n",
              "2  2176-10-22 14:09:00 UTC  1.538737  \n",
              "3  2150-08-06 07:22:00 UTC  4.846154  \n",
              "4  2125-04-18 09:28:00 UTC  0.612903  "
            ],
            "text/html": [
              "\n",
              "  <div id=\"df-66c35789-4e43-49c3-899b-4c4bd548db8a\">\n",
              "    <div class=\"colab-df-container\">\n",
              "      <div>\n",
              "<style scoped>\n",
              "    .dataframe tbody tr th:only-of-type {\n",
              "        vertical-align: middle;\n",
              "    }\n",
              "\n",
              "    .dataframe tbody tr th {\n",
              "        vertical-align: top;\n",
              "    }\n",
              "\n",
              "    .dataframe thead th {\n",
              "        text-align: right;\n",
              "    }\n",
              "</style>\n",
              "<table border=\"1\" class=\"dataframe\">\n",
              "  <thead>\n",
              "    <tr style=\"text-align: right;\">\n",
              "      <th></th>\n",
              "      <th>subject_id</th>\n",
              "      <th>hospital_expire_flag</th>\n",
              "      <th>deathtime</th>\n",
              "      <th>gender</th>\n",
              "      <th>age</th>\n",
              "      <th>dod</th>\n",
              "      <th>hosp_admittime</th>\n",
              "      <th>icu_intime</th>\n",
              "      <th>icu_outtime</th>\n",
              "      <th>T0</th>\n",
              "      <th>delta_T</th>\n",
              "    </tr>\n",
              "  </thead>\n",
              "  <tbody>\n",
              "    <tr>\n",
              "      <th>0</th>\n",
              "      <td>12641866.0</td>\n",
              "      <td>0.0</td>\n",
              "      <td>NaN</td>\n",
              "      <td>M</td>\n",
              "      <td>74.0</td>\n",
              "      <td>NaN</td>\n",
              "      <td>2165-11-22 21:46:00</td>\n",
              "      <td>2165-11-22 21:48:38</td>\n",
              "      <td>2165-12-01 12:14:52</td>\n",
              "      <td>2165-11-22 21:20:00 UTC</td>\n",
              "      <td>0.522581</td>\n",
              "    </tr>\n",
              "    <tr>\n",
              "      <th>1</th>\n",
              "      <td>12650542.0</td>\n",
              "      <td>0.0</td>\n",
              "      <td>NaN</td>\n",
              "      <td>F</td>\n",
              "      <td>91.0</td>\n",
              "      <td>2115-03-01</td>\n",
              "      <td>2114-11-09 18:35:00</td>\n",
              "      <td>2114-11-09 19:38:49</td>\n",
              "      <td>2114-11-10 17:50:14</td>\n",
              "      <td>2114-11-10 01:12:00 UTC</td>\n",
              "      <td>0.250000</td>\n",
              "    </tr>\n",
              "    <tr>\n",
              "      <th>2</th>\n",
              "      <td>12652467.0</td>\n",
              "      <td>0.0</td>\n",
              "      <td>NaN</td>\n",
              "      <td>M</td>\n",
              "      <td>61.0</td>\n",
              "      <td>NaN</td>\n",
              "      <td>2176-10-21 12:25:00</td>\n",
              "      <td>2176-10-21 12:26:01</td>\n",
              "      <td>2176-10-24 15:30:49</td>\n",
              "      <td>2176-10-22 14:09:00 UTC</td>\n",
              "      <td>1.538737</td>\n",
              "    </tr>\n",
              "    <tr>\n",
              "      <th>3</th>\n",
              "      <td>12656796.0</td>\n",
              "      <td>0.0</td>\n",
              "      <td>NaN</td>\n",
              "      <td>M</td>\n",
              "      <td>70.0</td>\n",
              "      <td>NaN</td>\n",
              "      <td>2150-08-06 06:08:00</td>\n",
              "      <td>2150-08-06 07:24:00</td>\n",
              "      <td>2150-08-12 17:51:17</td>\n",
              "      <td>2150-08-06 07:22:00 UTC</td>\n",
              "      <td>4.846154</td>\n",
              "    </tr>\n",
              "    <tr>\n",
              "      <th>4</th>\n",
              "      <td>12659688.0</td>\n",
              "      <td>0.0</td>\n",
              "      <td>NaN</td>\n",
              "      <td>M</td>\n",
              "      <td>75.0</td>\n",
              "      <td>2127-04-13</td>\n",
              "      <td>2125-04-18 00:20:00</td>\n",
              "      <td>2125-04-18 05:27:11</td>\n",
              "      <td>2125-04-19 15:42:15</td>\n",
              "      <td>2125-04-18 09:28:00 UTC</td>\n",
              "      <td>0.612903</td>\n",
              "    </tr>\n",
              "  </tbody>\n",
              "</table>\n",
              "</div>\n",
              "      <button class=\"colab-df-convert\" onclick=\"convertToInteractive('df-66c35789-4e43-49c3-899b-4c4bd548db8a')\"\n",
              "              title=\"Convert this dataframe to an interactive table.\"\n",
              "              style=\"display:none;\">\n",
              "        \n",
              "  <svg xmlns=\"http://www.w3.org/2000/svg\" height=\"24px\"viewBox=\"0 0 24 24\"\n",
              "       width=\"24px\">\n",
              "    <path d=\"M0 0h24v24H0V0z\" fill=\"none\"/>\n",
              "    <path d=\"M18.56 5.44l.94 2.06.94-2.06 2.06-.94-2.06-.94-.94-2.06-.94 2.06-2.06.94zm-11 1L8.5 8.5l.94-2.06 2.06-.94-2.06-.94L8.5 2.5l-.94 2.06-2.06.94zm10 10l.94 2.06.94-2.06 2.06-.94-2.06-.94-.94-2.06-.94 2.06-2.06.94z\"/><path d=\"M17.41 7.96l-1.37-1.37c-.4-.4-.92-.59-1.43-.59-.52 0-1.04.2-1.43.59L10.3 9.45l-7.72 7.72c-.78.78-.78 2.05 0 2.83L4 21.41c.39.39.9.59 1.41.59.51 0 1.02-.2 1.41-.59l7.78-7.78 2.81-2.81c.8-.78.8-2.07 0-2.86zM5.41 20L4 18.59l7.72-7.72 1.47 1.35L5.41 20z\"/>\n",
              "  </svg>\n",
              "      </button>\n",
              "      \n",
              "  <style>\n",
              "    .colab-df-container {\n",
              "      display:flex;\n",
              "      flex-wrap:wrap;\n",
              "      gap: 12px;\n",
              "    }\n",
              "\n",
              "    .colab-df-convert {\n",
              "      background-color: #E8F0FE;\n",
              "      border: none;\n",
              "      border-radius: 50%;\n",
              "      cursor: pointer;\n",
              "      display: none;\n",
              "      fill: #1967D2;\n",
              "      height: 32px;\n",
              "      padding: 0 0 0 0;\n",
              "      width: 32px;\n",
              "    }\n",
              "\n",
              "    .colab-df-convert:hover {\n",
              "      background-color: #E2EBFA;\n",
              "      box-shadow: 0px 1px 2px rgba(60, 64, 67, 0.3), 0px 1px 3px 1px rgba(60, 64, 67, 0.15);\n",
              "      fill: #174EA6;\n",
              "    }\n",
              "\n",
              "    [theme=dark] .colab-df-convert {\n",
              "      background-color: #3B4455;\n",
              "      fill: #D2E3FC;\n",
              "    }\n",
              "\n",
              "    [theme=dark] .colab-df-convert:hover {\n",
              "      background-color: #434B5C;\n",
              "      box-shadow: 0px 1px 3px 1px rgba(0, 0, 0, 0.15);\n",
              "      filter: drop-shadow(0px 1px 2px rgba(0, 0, 0, 0.3));\n",
              "      fill: #FFFFFF;\n",
              "    }\n",
              "  </style>\n",
              "\n",
              "      <script>\n",
              "        const buttonEl =\n",
              "          document.querySelector('#df-66c35789-4e43-49c3-899b-4c4bd548db8a button.colab-df-convert');\n",
              "        buttonEl.style.display =\n",
              "          google.colab.kernel.accessAllowed ? 'block' : 'none';\n",
              "\n",
              "        async function convertToInteractive(key) {\n",
              "          const element = document.querySelector('#df-66c35789-4e43-49c3-899b-4c4bd548db8a');\n",
              "          const dataTable =\n",
              "            await google.colab.kernel.invokeFunction('convertToInteractive',\n",
              "                                                     [key], {});\n",
              "          if (!dataTable) return;\n",
              "\n",
              "          const docLinkHtml = 'Like what you see? Visit the ' +\n",
              "            '<a target=\"_blank\" href=https://colab.research.google.com/notebooks/data_table.ipynb>data table notebook</a>'\n",
              "            + ' to learn more about interactive tables.';\n",
              "          element.innerHTML = '';\n",
              "          dataTable['output_type'] = 'display_data';\n",
              "          await google.colab.output.renderOutput(dataTable, element);\n",
              "          const docLink = document.createElement('div');\n",
              "          docLink.innerHTML = docLinkHtml;\n",
              "          element.appendChild(docLink);\n",
              "        }\n",
              "      </script>\n",
              "    </div>\n",
              "  </div>\n",
              "  "
            ]
          },
          "metadata": {},
          "execution_count": 35
        }
      ],
      "source": [
        "import pandas as pd\n",
        "import numpy as np\n",
        "import matplotlib.pyplot as plt\n",
        "import seaborn as sns \n",
        "\n",
        "# Read and display data\n",
        "df = pd.read_csv(\"final_main_cohort.csv\")\n",
        "df.head()"
      ]
    },
    {
      "cell_type": "markdown",
      "source": [
        "# Basic info"
      ],
      "metadata": {
        "id": "Bn_hLSlM0lJO"
      }
    },
    {
      "cell_type": "code",
      "source": [
        "df.shape"
      ],
      "metadata": {
        "colab": {
          "base_uri": "https://localhost:8080/"
        },
        "id": "xX7l8n1ItL4X",
        "outputId": "5af9f230-5c9e-4410-d442-9cb4bec5b8a3"
      },
      "execution_count": null,
      "outputs": [
        {
          "output_type": "execute_result",
          "data": {
            "text/plain": [
              "(3526, 11)"
            ]
          },
          "metadata": {},
          "execution_count": 55
        }
      ]
    },
    {
      "cell_type": "code",
      "source": [
        "df.dtypes"
      ],
      "metadata": {
        "colab": {
          "base_uri": "https://localhost:8080/"
        },
        "id": "F-9Mehw1u-jQ",
        "outputId": "b5cad222-87a6-46f5-ac12-3a9ee182bf6e"
      },
      "execution_count": null,
      "outputs": [
        {
          "output_type": "execute_result",
          "data": {
            "text/plain": [
              "subject_id              float64\n",
              "hospital_expire_flag    float64\n",
              "deathtime                object\n",
              "gender                   object\n",
              "age                     float64\n",
              "dod                      object\n",
              "hosp_admittime           object\n",
              "icu_intime               object\n",
              "icu_outtime              object\n",
              "T0                       object\n",
              "delta_T                 float64\n",
              "dtype: object"
            ]
          },
          "metadata": {},
          "execution_count": 56
        }
      ]
    },
    {
      "cell_type": "code",
      "source": [
        "df.nunique()"
      ],
      "metadata": {
        "colab": {
          "base_uri": "https://localhost:8080/"
        },
        "id": "rCR93wK5vLYt",
        "outputId": "65844a06-4460-4d9f-ea6a-aa08bf5f25ab"
      },
      "execution_count": null,
      "outputs": [
        {
          "output_type": "execute_result",
          "data": {
            "text/plain": [
              "subject_id              3523\n",
              "hospital_expire_flag       2\n",
              "deathtime                744\n",
              "gender                     2\n",
              "age                       73\n",
              "dod                     1677\n",
              "hosp_admittime          3523\n",
              "icu_intime              3523\n",
              "icu_outtime             3523\n",
              "T0                      3524\n",
              "delta_T                 1391\n",
              "dtype: int64"
            ]
          },
          "metadata": {},
          "execution_count": 57
        }
      ]
    },
    {
      "cell_type": "code",
      "source": [
        "len(pd.unique(df['subject_id']))"
      ],
      "metadata": {
        "colab": {
          "base_uri": "https://localhost:8080/"
        },
        "id": "8po5JkZ-vqes",
        "outputId": "cfafd110-257c-40c1-e14b-8087b5513396"
      },
      "execution_count": null,
      "outputs": [
        {
          "output_type": "execute_result",
          "data": {
            "text/plain": [
              "3524"
            ]
          },
          "metadata": {},
          "execution_count": 58
        }
      ]
    },
    {
      "cell_type": "markdown",
      "source": [
        "# gender"
      ],
      "metadata": {
        "id": "SqcwQlgc0TNh"
      }
    },
    {
      "cell_type": "code",
      "source": [
        "## absolute female value \n",
        "female = len(df[df[\"gender\"] == 'F'])\n",
        "print (\"female:\", female)\n",
        "\n",
        "## absolute male value \n",
        "male = len(df[df[\"gender\"] == 'M'])\n",
        "print (\"male:\",male)"
      ],
      "metadata": {
        "colab": {
          "base_uri": "https://localhost:8080/"
        },
        "id": "OolMZalTv2-K",
        "outputId": "20c3aed1-d084-4ac3-b21e-40ad70e70bf7"
      },
      "execution_count": null,
      "outputs": [
        {
          "output_type": "stream",
          "name": "stdout",
          "text": [
            "female: 1464\n",
            "male: 2059\n"
          ]
        }
      ]
    },
    {
      "cell_type": "code",
      "source": [
        "df['gender'].value_counts(normalize=True)"
      ],
      "metadata": {
        "colab": {
          "base_uri": "https://localhost:8080/"
        },
        "id": "XgtzMgXQ0CKo",
        "outputId": "829424ba-b75e-49d1-afa1-bd44a98b4c04"
      },
      "execution_count": null,
      "outputs": [
        {
          "output_type": "execute_result",
          "data": {
            "text/plain": [
              "M    0.584445\n",
              "F    0.415555\n",
              "Name: gender, dtype: float64"
            ]
          },
          "metadata": {},
          "execution_count": 41
        }
      ]
    },
    {
      "cell_type": "markdown",
      "source": [
        "# age"
      ],
      "metadata": {
        "id": "0CBkVCbz0Jdr"
      }
    },
    {
      "cell_type": "code",
      "source": [
        "df.boxplot(column =['age'], grid = False);"
      ],
      "metadata": {
        "colab": {
          "base_uri": "https://localhost:8080/",
          "height": 265
        },
        "id": "8GvN4A97yfjl",
        "outputId": "7214d683-6955-4475-bca6-327c0027e3ed"
      },
      "execution_count": null,
      "outputs": [
        {
          "output_type": "display_data",
          "data": {
            "text/plain": [
              "<Figure size 432x288 with 1 Axes>"
            ],
            "image/png": "[encoded data removed]"
          },
          "metadata": {
            "needs_background": "light"
          }
        }
      ]
    },
    {
      "cell_type": "code",
      "source": [
        "df['age'].describe()"
      ],
      "metadata": {
        "colab": {
          "base_uri": "https://localhost:8080/"
        },
        "id": "WIIQyV_fynt8",
        "outputId": "27169eed-649a-47d4-b715-af14f12b62d1"
      },
      "execution_count": null,
      "outputs": [
        {
          "output_type": "execute_result",
          "data": {
            "text/plain": [
              "count    3523.000000\n",
              "mean       68.216009\n",
              "std        15.110145\n",
              "min        18.000000\n",
              "25%        59.000000\n",
              "50%        69.000000\n",
              "75%        80.000000\n",
              "max        91.000000\n",
              "Name: age, dtype: float64"
            ]
          },
          "metadata": {},
          "execution_count": 43
        }
      ]
    },
    {
      "cell_type": "code",
      "source": [
        "df['age'].value_counts(normalize=True)"
      ],
      "metadata": {
        "colab": {
          "base_uri": "https://localhost:8080/"
        },
        "id": "9lpmsDW2zGT3",
        "outputId": "90ddae09-46f2-4b52-c730-4cbbdff93417"
      },
      "execution_count": null,
      "outputs": [
        {
          "output_type": "execute_result",
          "data": {
            "text/plain": [
              "91.0    0.064718\n",
              "77.0    0.027817\n",
              "69.0    0.027817\n",
              "64.0    0.026966\n",
              "72.0    0.026682\n",
              "          ...   \n",
              "21.0    0.001135\n",
              "20.0    0.001135\n",
              "32.0    0.001135\n",
              "25.0    0.000852\n",
              "18.0    0.000284\n",
              "Name: age, Length: 73, dtype: float64"
            ]
          },
          "metadata": {},
          "execution_count": 44
        }
      ]
    },
    {
      "cell_type": "code",
      "source": [
        "old_age = len(df[df['age'] > 65])\n",
        "print(old_age)\n",
        "\n",
        "young = 3523 - old_age\n",
        "print(young)"
      ],
      "metadata": {
        "colab": {
          "base_uri": "https://localhost:8080/"
        },
        "id": "4Oi_nQdW4E0S",
        "outputId": "07084e0a-4734-4a2f-96fa-b467741c58d1"
      },
      "execution_count": null,
      "outputs": [
        {
          "output_type": "stream",
          "name": "stdout",
          "text": [
            "2102\n",
            "1421\n"
          ]
        }
      ]
    },
    {
      "cell_type": "markdown",
      "source": [
        "# delta T"
      ],
      "metadata": {
        "id": "SHxveEIR5RKT"
      }
    },
    {
      "cell_type": "code",
      "source": [
        "df['delta_T'].describe()"
      ],
      "metadata": {
        "colab": {
          "base_uri": "https://localhost:8080/"
        },
        "id": "OckRqGWs5Wh3",
        "outputId": "98e77f7d-3237-4bc2-faf9-f378e944e71c"
      },
      "execution_count": null,
      "outputs": [
        {
          "output_type": "execute_result",
          "data": {
            "text/plain": [
              "count    3523.000000\n",
              "mean        1.768798\n",
              "std         7.090514\n",
              "min         0.200000\n",
              "25%         0.342600\n",
              "50%         0.574713\n",
              "75%         1.166667\n",
              "max       223.500000\n",
              "Name: delta_T, dtype: float64"
            ]
          },
          "metadata": {},
          "execution_count": 72
        }
      ]
    },
    {
      "cell_type": "code",
      "source": [
        "high_risk = len(df[df['delta_T'] > 1.0])\n",
        "print(high_risk)"
      ],
      "metadata": {
        "colab": {
          "base_uri": "https://localhost:8080/"
        },
        "id": "HfGWctHy5iWH",
        "outputId": "48dc7f4c-10fa-4022-efbf-d144136d3918"
      },
      "execution_count": null,
      "outputs": [
        {
          "output_type": "stream",
          "name": "stdout",
          "text": [
            "957\n"
          ]
        }
      ]
    },
    {
      "cell_type": "code",
      "source": [
        "low_risk = len(df[df['delta_T'] < 0.2])\n",
        "print(low_risk)"
      ],
      "metadata": {
        "colab": {
          "base_uri": "https://localhost:8080/"
        },
        "id": "IxkDm8zK6X43",
        "outputId": "a715f388-7e9b-4133-f4e7-aa3fbad7ab71"
      },
      "execution_count": null,
      "outputs": [
        {
          "output_type": "stream",
          "name": "stdout",
          "text": [
            "0\n"
          ]
        }
      ]
    },
    {
      "cell_type": "code",
      "source": [
        "medium_risk = len(df[df['delta_T'] > 0.2 & df[df['delta_T'] == 1])\n",
        "print(medium_risk)"
      ],
      "metadata": {
        "colab": {
          "base_uri": "https://localhost:8080/",
          "height": 134
        },
        "id": "qna3OG2D52XI",
        "outputId": "b4f217b6-4414-44aa-c959-51f9ae43c0a9"
      },
      "execution_count": null,
      "outputs": [
        {
          "output_type": "error",
          "ename": "SyntaxError",
          "evalue": "ignored",
          "traceback": [
            "\u001b[0;36m  File \u001b[0;32m\"<ipython-input-75-03816f38882e>\"\u001b[0;36m, line \u001b[0;32m1\u001b[0m\n\u001b[0;31m    medium_risk = len(df[df['delta_T'] > 0.2 & df[df['delta_T'] == 1])\u001b[0m\n\u001b[0m                                                                     ^\u001b[0m\n\u001b[0;31mSyntaxError\u001b[0m\u001b[0;31m:\u001b[0m closing parenthesis ')' does not match opening parenthesis '['\n"
          ]
        }
      ]
    }
  ]
}