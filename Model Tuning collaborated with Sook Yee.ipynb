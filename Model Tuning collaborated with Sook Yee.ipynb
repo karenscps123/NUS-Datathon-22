{
 "cells": [
  {
   "cell_type": "markdown",
   "id": "7a628b47",
   "metadata": {},
   "source": [
    "# Datathon"
   ]
  },
  {
   "cell_type": "markdown",
   "id": "119f6c66",
   "metadata": {},
   "source": [
    "*import libraries*"
   ]
  },
  {
   "cell_type": "code",
   "execution_count": 1,
   "id": "28128733",
   "metadata": {},
   "outputs": [],
   "source": [
    "# Import libraries here\n",
    "import numpy as np\n",
    "import pandas as pd\n",
    "import matplotlib.pyplot as plt\n",
    "import matplotlib\n",
    "import seaborn as sns\n",
    "pd.options.mode.chained_assignment = None  # default='warn'\n",
    "\n",
    "from sklearn.model_selection import train_test_split, GridSearchCV\n",
    "from sklearn.preprocessing import StandardScaler, PolynomialFeatures\n",
    "from sklearn.linear_model import (RidgeCV, \n",
    "                                  LassoCV, \n",
    "                                  ElasticNetCV, \n",
    "                                  LogisticRegressionCV,\n",
    "                                  LinearRegression,\n",
    "                                  LogisticRegression)\n",
    "from imblearn.over_sampling import SMOTE\n",
    "from imblearn.pipeline import Pipeline\n",
    "from sklearn.metrics import (confusion_matrix, \n",
    "                             plot_confusion_matrix, \n",
    "                             roc_auc_score, \n",
    "                             plot_roc_curve, \n",
    "                             accuracy_score,\n",
    "                            )\n",
    "from sklearn.decomposition import PCA\n",
    "\n",
    "from sklearn.linear_model import LogisticRegression\n",
    "from sklearn.tree import DecisionTreeClassifier\n",
    "from sklearn.ensemble import RandomForestClassifier, ExtraTreesClassifier, BaggingClassifier, AdaBoostClassifier\n",
    "from sklearn.svm import LinearSVC, SVC\n",
    "\n",
    "import xgboost as xgb\n",
    "import time\n",
    "import warnings\n",
    "warnings.filterwarnings('ignore')"
   ]
  },
  {
   "cell_type": "code",
   "execution_count": 2,
   "id": "70811b5a",
   "metadata": {},
   "outputs": [],
   "source": [
    "pd.set_option('display.max_rows', 100)\n",
    "pd.set_option('display.max_columns', 50)"
   ]
  },
  {
   "cell_type": "code",
   "execution_count": 3,
   "id": "aeb7583f",
   "metadata": {},
   "outputs": [],
   "source": [
    "# import data\n",
    "df = pd.read_csv('./data//final_df.csv')"
   ]
  },
  {
   "cell_type": "code",
   "execution_count": 4,
   "id": "07a8ee8a",
   "metadata": {},
   "outputs": [
    {
     "data": {
      "text/html": [
       "<div>\n",
       "<style scoped>\n",
       "    .dataframe tbody tr th:only-of-type {\n",
       "        vertical-align: middle;\n",
       "    }\n",
       "\n",
       "    .dataframe tbody tr th {\n",
       "        vertical-align: top;\n",
       "    }\n",
       "\n",
       "    .dataframe thead th {\n",
       "        text-align: right;\n",
       "    }\n",
       "</style>\n",
       "<table border=\"1\" class=\"dataframe\">\n",
       "  <thead>\n",
       "    <tr style=\"text-align: right;\">\n",
       "      <th></th>\n",
       "      <th>Unnamed: 0</th>\n",
       "      <th>subject_id</th>\n",
       "      <th>gender</th>\n",
       "      <th>mortality_deathtime</th>\n",
       "      <th>anchor_age</th>\n",
       "      <th>icu_intime_dt</th>\n",
       "      <th>aspirin_timediff</th>\n",
       "      <th>p2y12_timediff</th>\n",
       "      <th>antiplatelet_timediff</th>\n",
       "      <th>hemo_difftime</th>\n",
       "      <th>hemo_valuenum</th>\n",
       "      <th>trop_risetime</th>\n",
       "    </tr>\n",
       "  </thead>\n",
       "  <tbody>\n",
       "    <tr>\n",
       "      <th>0</th>\n",
       "      <td>0</td>\n",
       "      <td>10000980</td>\n",
       "      <td>F</td>\n",
       "      <td>0</td>\n",
       "      <td>73</td>\n",
       "      <td>2189-06-27 08:42:00</td>\n",
       "      <td>3.366667</td>\n",
       "      <td>3.366667</td>\n",
       "      <td>NaN</td>\n",
       "      <td>NaN</td>\n",
       "      <td>NaN</td>\n",
       "      <td>2189-06-27 14:18:00</td>\n",
       "    </tr>\n",
       "    <tr>\n",
       "      <th>1</th>\n",
       "      <td>1</td>\n",
       "      <td>10002013</td>\n",
       "      <td>F</td>\n",
       "      <td>0</td>\n",
       "      <td>53</td>\n",
       "      <td>2160-05-18 10:00:00</td>\n",
       "      <td>2.250000</td>\n",
       "      <td>2.250000</td>\n",
       "      <td>NaN</td>\n",
       "      <td>NaN</td>\n",
       "      <td>NaN</td>\n",
       "      <td>NaN</td>\n",
       "    </tr>\n",
       "    <tr>\n",
       "      <th>2</th>\n",
       "      <td>2</td>\n",
       "      <td>10002430</td>\n",
       "      <td>M</td>\n",
       "      <td>0</td>\n",
       "      <td>86</td>\n",
       "      <td>2129-06-13 00:43:00</td>\n",
       "      <td>4.000000</td>\n",
       "      <td>NaN</td>\n",
       "      <td>NaN</td>\n",
       "      <td>NaN</td>\n",
       "      <td>NaN</td>\n",
       "      <td>NaN</td>\n",
       "    </tr>\n",
       "    <tr>\n",
       "      <th>3</th>\n",
       "      <td>3</td>\n",
       "      <td>10002495</td>\n",
       "      <td>M</td>\n",
       "      <td>0</td>\n",
       "      <td>81</td>\n",
       "      <td>2141-05-22 20:18:00</td>\n",
       "      <td>11.716667</td>\n",
       "      <td>9.716667</td>\n",
       "      <td>NaN</td>\n",
       "      <td>0.716667</td>\n",
       "      <td>11.1</td>\n",
       "      <td>2141-05-22 23:05:00</td>\n",
       "    </tr>\n",
       "    <tr>\n",
       "      <th>4</th>\n",
       "      <td>4</td>\n",
       "      <td>10002527</td>\n",
       "      <td>M</td>\n",
       "      <td>0</td>\n",
       "      <td>50</td>\n",
       "      <td>2136-03-24 10:24:00</td>\n",
       "      <td>21.500000</td>\n",
       "      <td>NaN</td>\n",
       "      <td>NaN</td>\n",
       "      <td>NaN</td>\n",
       "      <td>NaN</td>\n",
       "      <td>NaN</td>\n",
       "    </tr>\n",
       "  </tbody>\n",
       "</table>\n",
       "</div>"
      ],
      "text/plain": [
       "   Unnamed: 0  subject_id gender  mortality_deathtime  anchor_age  \\\n",
       "0           0    10000980      F                    0          73   \n",
       "1           1    10002013      F                    0          53   \n",
       "2           2    10002430      M                    0          86   \n",
       "3           3    10002495      M                    0          81   \n",
       "4           4    10002527      M                    0          50   \n",
       "\n",
       "         icu_intime_dt  aspirin_timediff  p2y12_timediff  \\\n",
       "0  2189-06-27 08:42:00          3.366667        3.366667   \n",
       "1  2160-05-18 10:00:00          2.250000        2.250000   \n",
       "2  2129-06-13 00:43:00          4.000000             NaN   \n",
       "3  2141-05-22 20:18:00         11.716667        9.716667   \n",
       "4  2136-03-24 10:24:00         21.500000             NaN   \n",
       "\n",
       "   antiplatelet_timediff  hemo_difftime  hemo_valuenum        trop_risetime  \n",
       "0                    NaN            NaN            NaN  2189-06-27 14:18:00  \n",
       "1                    NaN            NaN            NaN                  NaN  \n",
       "2                    NaN            NaN            NaN                  NaN  \n",
       "3                    NaN       0.716667           11.1  2141-05-22 23:05:00  \n",
       "4                    NaN            NaN            NaN                  NaN  "
      ]
     },
     "execution_count": 4,
     "metadata": {},
     "output_type": "execute_result"
    }
   ],
   "source": [
    "df.head()"
   ]
  },
  {
   "cell_type": "code",
   "execution_count": 5,
   "id": "d8cbf6dd",
   "metadata": {},
   "outputs": [
    {
     "name": "stdout",
     "output_type": "stream",
     "text": [
      "<class 'pandas.core.frame.DataFrame'>\n",
      "RangeIndex: 16407 entries, 0 to 16406\n",
      "Data columns (total 12 columns):\n",
      " #   Column                 Non-Null Count  Dtype  \n",
      "---  ------                 --------------  -----  \n",
      " 0   Unnamed: 0             16407 non-null  int64  \n",
      " 1   subject_id             16407 non-null  int64  \n",
      " 2   gender                 16407 non-null  object \n",
      " 3   mortality_deathtime    16407 non-null  int64  \n",
      " 4   anchor_age             16407 non-null  int64  \n",
      " 5   icu_intime_dt          16407 non-null  object \n",
      " 6   aspirin_timediff       15818 non-null  float64\n",
      " 7   p2y12_timediff         3293 non-null   float64\n",
      " 8   antiplatelet_timediff  22 non-null     float64\n",
      " 9   hemo_difftime          5105 non-null   float64\n",
      " 10  hemo_valuenum          5105 non-null   float64\n",
      " 11  trop_risetime          5147 non-null   object \n",
      "dtypes: float64(5), int64(4), object(3)\n",
      "memory usage: 1.5+ MB\n"
     ]
    }
   ],
   "source": [
    "df.info()"
   ]
  },
  {
   "cell_type": "code",
   "execution_count": 6,
   "id": "86d578f9",
   "metadata": {},
   "outputs": [],
   "source": [
    "# convert datetime\n"
   ]
  },
  {
   "cell_type": "code",
   "execution_count": 7,
   "id": "20306f3e",
   "metadata": {},
   "outputs": [],
   "source": [
    "df.rename(columns={'mortality_deathtime': 'mortality'},inplace=True) "
   ]
  },
  {
   "cell_type": "code",
   "execution_count": 8,
   "id": "123053fb",
   "metadata": {},
   "outputs": [
    {
     "data": {
      "text/plain": [
       "array(['F', 'M'], dtype=object)"
      ]
     },
     "execution_count": 8,
     "metadata": {},
     "output_type": "execute_result"
    }
   ],
   "source": [
    "df['gender'].unique()"
   ]
  },
  {
   "cell_type": "code",
   "execution_count": 9,
   "id": "d81aea09",
   "metadata": {},
   "outputs": [],
   "source": [
    "# convert gender\n",
    "df['gender_bin'] = df['gender'].apply(lambda x: 1 if x is 'M' else 0)"
   ]
  },
  {
   "cell_type": "code",
   "execution_count": 10,
   "id": "2970b667",
   "metadata": {},
   "outputs": [
    {
     "data": {
      "text/plain": [
       "0    0.929055\n",
       "1    0.070945\n",
       "Name: mortality, dtype: float64"
      ]
     },
     "execution_count": 10,
     "metadata": {},
     "output_type": "execute_result"
    }
   ],
   "source": [
    "df['mortality'].value_counts(normalize=True)"
   ]
  },
  {
   "cell_type": "markdown",
   "id": "2af917a6",
   "metadata": {},
   "source": [
    "### Baseline model (with SMOTE)"
   ]
  },
  {
   "cell_type": "code",
   "execution_count": 12,
   "id": "cbb415b6",
   "metadata": {},
   "outputs": [],
   "source": [
    "X_sm = df[['anchor_age']]\n",
    "y_sm = df[['mortality']]"
   ]
  },
  {
   "cell_type": "code",
   "execution_count": 13,
   "id": "96e71dbf",
   "metadata": {},
   "outputs": [
    {
     "data": {
      "text/plain": [
       "mortality\n",
       "0            0.929055\n",
       "1            0.070945\n",
       "dtype: float64"
      ]
     },
     "execution_count": 13,
     "metadata": {},
     "output_type": "execute_result"
    }
   ],
   "source": [
    "# imbalanced \n",
    "y_sm.value_counts(normalize=True)"
   ]
  },
  {
   "cell_type": "code",
   "execution_count": 14,
   "id": "198e50d3",
   "metadata": {},
   "outputs": [],
   "source": [
    "# split data\n",
    "Xsm_train, Xsm_test, ysm_train, ysm_test = train_test_split(X_sm, y_sm, test_size = 0.33, random_state=42, stratify=y_sm)"
   ]
  },
  {
   "cell_type": "code",
   "execution_count": 15,
   "id": "62e123e0",
   "metadata": {},
   "outputs": [],
   "source": [
    "# scaling\n",
    "ss = StandardScaler()\n",
    "\n",
    "Xsm_train_sc = ss.fit_transform(Xsm_train)\n",
    "Xsm_test_sc = ss.transform(Xsm_test)"
   ]
  },
  {
   "cell_type": "code",
   "execution_count": 16,
   "id": "b4a42c77",
   "metadata": {},
   "outputs": [],
   "source": [
    "# create synthetic data for training set\n",
    "smote = SMOTE()"
   ]
  },
  {
   "cell_type": "code",
   "execution_count": 17,
   "id": "15ec3696",
   "metadata": {},
   "outputs": [],
   "source": [
    "Xsmote_train, ysmote_train = smote.fit_resample(Xsm_train_sc, ysm_train)"
   ]
  },
  {
   "cell_type": "code",
   "execution_count": 18,
   "id": "45b8b08e",
   "metadata": {},
   "outputs": [
    {
     "data": {
      "text/plain": [
       "<bound method SamplerMixin.fit of SMOTE()>"
      ]
     },
     "execution_count": 18,
     "metadata": {},
     "output_type": "execute_result"
    }
   ],
   "source": [
    "smote.fit"
   ]
  },
  {
   "cell_type": "code",
   "execution_count": 19,
   "id": "346de33f",
   "metadata": {},
   "outputs": [
    {
     "data": {
      "text/plain": [
       "mortality\n",
       "0            10212\n",
       "1            10212\n",
       "dtype: int64"
      ]
     },
     "execution_count": 19,
     "metadata": {},
     "output_type": "execute_result"
    }
   ],
   "source": [
    "# balanced\n",
    "ysmote_train.value_counts()"
   ]
  },
  {
   "cell_type": "code",
   "execution_count": 20,
   "id": "6873513b",
   "metadata": {},
   "outputs": [
    {
     "data": {
      "text/plain": [
       "(0.6056600078339209, 0.5850415512465375)"
      ]
     },
     "execution_count": 20,
     "metadata": {},
     "output_type": "execute_result"
    }
   ],
   "source": [
    "# instantiate\n",
    "lr = LogisticRegression()\n",
    "\n",
    "# fit model\n",
    "lr.fit(Xsmote_train, ysmote_train)\n",
    "\n",
    "# score\n",
    "lr.score(Xsmote_train, ysmote_train), lr.score(Xsm_test_sc, ysm_test)"
   ]
  },
  {
   "cell_type": "markdown",
   "id": "9d170659",
   "metadata": {},
   "source": [
    "So the **baseline accuracy** is 0.61 (for train set), and 0.59 (for test set)"
   ]
  },
  {
   "cell_type": "markdown",
   "id": "bf70958d",
   "metadata": {},
   "source": [
    "## Feature selection"
   ]
  },
  {
   "cell_type": "markdown",
   "id": "cbb01546",
   "metadata": {},
   "source": [
    "### Logistic regression (with SMOTE)"
   ]
  },
  {
   "cell_type": "code",
   "execution_count": 21,
   "id": "d8b134de",
   "metadata": {},
   "outputs": [
    {
     "name": "stdout",
     "output_type": "stream",
     "text": [
      "<class 'pandas.core.frame.DataFrame'>\n",
      "RangeIndex: 16407 entries, 0 to 16406\n",
      "Data columns (total 13 columns):\n",
      " #   Column                 Non-Null Count  Dtype  \n",
      "---  ------                 --------------  -----  \n",
      " 0   Unnamed: 0             16407 non-null  int64  \n",
      " 1   subject_id             16407 non-null  int64  \n",
      " 2   gender                 16407 non-null  object \n",
      " 3   mortality              16407 non-null  int64  \n",
      " 4   anchor_age             16407 non-null  int64  \n",
      " 5   icu_intime_dt          16407 non-null  object \n",
      " 6   aspirin_timediff       15818 non-null  float64\n",
      " 7   p2y12_timediff         3293 non-null   float64\n",
      " 8   antiplatelet_timediff  22 non-null     float64\n",
      " 9   hemo_difftime          5105 non-null   float64\n",
      " 10  hemo_valuenum          5105 non-null   float64\n",
      " 11  trop_risetime          5147 non-null   object \n",
      " 12  gender_bin             16407 non-null  int64  \n",
      "dtypes: float64(5), int64(5), object(3)\n",
      "memory usage: 1.6+ MB\n"
     ]
    }
   ],
   "source": [
    "df.info()"
   ]
  },
  {
   "cell_type": "code",
   "execution_count": 22,
   "id": "d9cc15fe",
   "metadata": {},
   "outputs": [],
   "source": [
    "df = df.fillna(0)"
   ]
  },
  {
   "cell_type": "code",
   "execution_count": 23,
   "id": "c0e3da14",
   "metadata": {},
   "outputs": [],
   "source": [
    "# from previous notebook\n",
    "# drop the above columns\n",
    "df.drop(columns=['Unnamed: 0','subject_id','gender','icu_intime_dt','trop_risetime'],inplace=True)"
   ]
  },
  {
   "cell_type": "code",
   "execution_count": 24,
   "id": "600dd68b",
   "metadata": {},
   "outputs": [
    {
     "data": {
      "text/plain": [
       "(16407, 8)"
      ]
     },
     "execution_count": 24,
     "metadata": {},
     "output_type": "execute_result"
    }
   ],
   "source": [
    "df.shape"
   ]
  },
  {
   "cell_type": "code",
   "execution_count": 25,
   "id": "ae26b167",
   "metadata": {},
   "outputs": [],
   "source": [
    "# using (most) entire dataset \n",
    "X = df.drop(columns=['mortality'])\n",
    "y = df[['mortality']]"
   ]
  },
  {
   "cell_type": "code",
   "execution_count": 26,
   "id": "1af265ed",
   "metadata": {},
   "outputs": [],
   "source": [
    "# split data\n",
    "X_train, X_test, y_train, y_test = train_test_split(X, y, test_size = 0.33, random_state = 42, stratify=y)"
   ]
  },
  {
   "cell_type": "code",
   "execution_count": 27,
   "id": "66bccf11",
   "metadata": {},
   "outputs": [],
   "source": [
    "pipe = Pipeline([\n",
    "        ('scale', StandardScaler()),\n",
    "        ('sampling', SMOTE(sampling_strategy='minority')),\n",
    "        ('logreg', LogisticRegression(max_iter=1_000, solver='saga'))\n",
    "    ])\n"
   ]
  },
  {
   "cell_type": "code",
   "execution_count": 28,
   "id": "27d67592",
   "metadata": {},
   "outputs": [],
   "source": [
    "# regardless of parameters, there is overfitting.\n",
    "pipe_params = {\n",
    "    'sampling__k_neighbors': [5, 10],   # \n",
    "    'logreg__penalty': ['l2', 'l1'],   # \n",
    "    'logreg__C': [1] # \n",
    "}"
   ]
  },
  {
   "cell_type": "code",
   "execution_count": 29,
   "id": "0d3bfb6f",
   "metadata": {},
   "outputs": [],
   "source": [
    "grid = GridSearchCV(pipe, pipe_params, scoring='roc_auc', n_jobs=-1)"
   ]
  },
  {
   "cell_type": "code",
   "execution_count": 30,
   "id": "ca693d02",
   "metadata": {},
   "outputs": [
    {
     "data": {
      "text/plain": [
       "anchor_age               0\n",
       "aspirin_timediff         0\n",
       "p2y12_timediff           0\n",
       "antiplatelet_timediff    0\n",
       "hemo_difftime            0\n",
       "hemo_valuenum            0\n",
       "gender_bin               0\n",
       "dtype: int64"
      ]
     },
     "execution_count": 30,
     "metadata": {},
     "output_type": "execute_result"
    }
   ],
   "source": [
    "X_train.isnull().sum()"
   ]
  },
  {
   "cell_type": "code",
   "execution_count": 31,
   "id": "303b9bcc",
   "metadata": {},
   "outputs": [
    {
     "name": "stdout",
     "output_type": "stream",
     "text": [
      "<class 'pandas.core.frame.DataFrame'>\n",
      "Int64Index: 10992 entries, 13492 to 9663\n",
      "Data columns (total 7 columns):\n",
      " #   Column                 Non-Null Count  Dtype  \n",
      "---  ------                 --------------  -----  \n",
      " 0   anchor_age             10992 non-null  int64  \n",
      " 1   aspirin_timediff       10992 non-null  float64\n",
      " 2   p2y12_timediff         10992 non-null  float64\n",
      " 3   antiplatelet_timediff  10992 non-null  float64\n",
      " 4   hemo_difftime          10992 non-null  float64\n",
      " 5   hemo_valuenum          10992 non-null  float64\n",
      " 6   gender_bin             10992 non-null  int64  \n",
      "dtypes: float64(5), int64(2)\n",
      "memory usage: 687.0 KB\n"
     ]
    }
   ],
   "source": [
    "X_train.info()"
   ]
  },
  {
   "cell_type": "code",
   "execution_count": 32,
   "id": "5caa1603",
   "metadata": {},
   "outputs": [
    {
     "data": {
      "text/plain": [
       "GridSearchCV(estimator=Pipeline(steps=[('scale', StandardScaler()),\n",
       "                                       ('sampling',\n",
       "                                        SMOTE(sampling_strategy='minority')),\n",
       "                                       ('logreg',\n",
       "                                        LogisticRegression(max_iter=1000,\n",
       "                                                           solver='saga'))]),\n",
       "             n_jobs=-1,\n",
       "             param_grid={'logreg__C': [1], 'logreg__penalty': ['l2', 'l1'],\n",
       "                         'sampling__k_neighbors': [5, 10]},\n",
       "             scoring='roc_auc')"
      ]
     },
     "execution_count": 32,
     "metadata": {},
     "output_type": "execute_result"
    }
   ],
   "source": [
    "grid.fit(X_train, y_train)"
   ]
  },
  {
   "cell_type": "code",
   "execution_count": 33,
   "id": "3bb13746",
   "metadata": {},
   "outputs": [
    {
     "data": {
      "text/plain": [
       "{'logreg__C': 1, 'logreg__penalty': 'l1', 'sampling__k_neighbors': 5}"
      ]
     },
     "execution_count": 33,
     "metadata": {},
     "output_type": "execute_result"
    }
   ],
   "source": [
    "grid.best_params_"
   ]
  },
  {
   "cell_type": "code",
   "execution_count": 34,
   "id": "60f6a151",
   "metadata": {},
   "outputs": [
    {
     "data": {
      "text/plain": [
       "(0.7448539676800546, 0.7297624519644869)"
      ]
     },
     "execution_count": 34,
     "metadata": {},
     "output_type": "execute_result"
    }
   ],
   "source": [
    "grid.score(X_train, y_train), grid.score(X_test, y_test)"
   ]
  },
  {
   "cell_type": "markdown",
   "id": "232dc584",
   "metadata": {},
   "source": [
    "Accuracy for train set is 0.74, while test set is 0.723. "
   ]
  },
  {
   "cell_type": "code",
   "execution_count": 35,
   "id": "4bedfd57",
   "metadata": {},
   "outputs": [],
   "source": [
    "# getting feature importance \n",
    "lr_coef = grid.best_estimator_.named_steps['logreg'].coef_"
   ]
  },
  {
   "cell_type": "code",
   "execution_count": 36,
   "id": "97a65b4a",
   "metadata": {},
   "outputs": [
    {
     "data": {
      "text/html": [
       "<div>\n",
       "<style scoped>\n",
       "    .dataframe tbody tr th:only-of-type {\n",
       "        vertical-align: middle;\n",
       "    }\n",
       "\n",
       "    .dataframe tbody tr th {\n",
       "        vertical-align: top;\n",
       "    }\n",
       "\n",
       "    .dataframe thead th {\n",
       "        text-align: right;\n",
       "    }\n",
       "</style>\n",
       "<table border=\"1\" class=\"dataframe\">\n",
       "  <thead>\n",
       "    <tr style=\"text-align: right;\">\n",
       "      <th></th>\n",
       "      <th>variable</th>\n",
       "      <th>coef</th>\n",
       "    </tr>\n",
       "  </thead>\n",
       "  <tbody>\n",
       "    <tr>\n",
       "      <th>5</th>\n",
       "      <td>hemo_valuenum</td>\n",
       "      <td>0.793366</td>\n",
       "    </tr>\n",
       "    <tr>\n",
       "      <th>0</th>\n",
       "      <td>anchor_age</td>\n",
       "      <td>0.520775</td>\n",
       "    </tr>\n",
       "    <tr>\n",
       "      <th>3</th>\n",
       "      <td>antiplatelet_timediff</td>\n",
       "      <td>0.029590</td>\n",
       "    </tr>\n",
       "    <tr>\n",
       "      <th>6</th>\n",
       "      <td>gender_bin</td>\n",
       "      <td>-0.027748</td>\n",
       "    </tr>\n",
       "    <tr>\n",
       "      <th>2</th>\n",
       "      <td>p2y12_timediff</td>\n",
       "      <td>-0.033396</td>\n",
       "    </tr>\n",
       "    <tr>\n",
       "      <th>1</th>\n",
       "      <td>aspirin_timediff</td>\n",
       "      <td>-0.061185</td>\n",
       "    </tr>\n",
       "    <tr>\n",
       "      <th>4</th>\n",
       "      <td>hemo_difftime</td>\n",
       "      <td>-0.111736</td>\n",
       "    </tr>\n",
       "  </tbody>\n",
       "</table>\n",
       "</div>"
      ],
      "text/plain": [
       "                variable      coef\n",
       "5          hemo_valuenum  0.793366\n",
       "0             anchor_age  0.520775\n",
       "3  antiplatelet_timediff  0.029590\n",
       "6             gender_bin -0.027748\n",
       "2         p2y12_timediff -0.033396\n",
       "1       aspirin_timediff -0.061185\n",
       "4          hemo_difftime -0.111736"
      ]
     },
     "execution_count": 36,
     "metadata": {},
     "output_type": "execute_result"
    }
   ],
   "source": [
    "coef_tot = pd.DataFrame(list(zip(X.columns,lr_coef[0])))\n",
    "coef_tot.columns = ['variable','coef']\n",
    "coef_tot.sort_values(by='coef',ascending=False)"
   ]
  },
  {
   "cell_type": "markdown",
   "id": "0ce4bb55",
   "metadata": {},
   "source": [
    "**top 5 features**"
   ]
  },
  {
   "cell_type": "code",
   "execution_count": 37,
   "id": "3b93d9d4",
   "metadata": {},
   "outputs": [
    {
     "data": {
      "text/html": [
       "<div>\n",
       "<style scoped>\n",
       "    .dataframe tbody tr th:only-of-type {\n",
       "        vertical-align: middle;\n",
       "    }\n",
       "\n",
       "    .dataframe tbody tr th {\n",
       "        vertical-align: top;\n",
       "    }\n",
       "\n",
       "    .dataframe thead th {\n",
       "        text-align: right;\n",
       "    }\n",
       "</style>\n",
       "<table border=\"1\" class=\"dataframe\">\n",
       "  <thead>\n",
       "    <tr style=\"text-align: right;\">\n",
       "      <th></th>\n",
       "      <th>variable</th>\n",
       "      <th>coef</th>\n",
       "    </tr>\n",
       "  </thead>\n",
       "  <tbody>\n",
       "    <tr>\n",
       "      <th>5</th>\n",
       "      <td>hemo_valuenum</td>\n",
       "      <td>0.793366</td>\n",
       "    </tr>\n",
       "    <tr>\n",
       "      <th>0</th>\n",
       "      <td>anchor_age</td>\n",
       "      <td>0.520775</td>\n",
       "    </tr>\n",
       "    <tr>\n",
       "      <th>3</th>\n",
       "      <td>antiplatelet_timediff</td>\n",
       "      <td>0.029590</td>\n",
       "    </tr>\n",
       "    <tr>\n",
       "      <th>6</th>\n",
       "      <td>gender_bin</td>\n",
       "      <td>-0.027748</td>\n",
       "    </tr>\n",
       "    <tr>\n",
       "      <th>2</th>\n",
       "      <td>p2y12_timediff</td>\n",
       "      <td>-0.033396</td>\n",
       "    </tr>\n",
       "  </tbody>\n",
       "</table>\n",
       "</div>"
      ],
      "text/plain": [
       "                variable      coef\n",
       "5          hemo_valuenum  0.793366\n",
       "0             anchor_age  0.520775\n",
       "3  antiplatelet_timediff  0.029590\n",
       "6             gender_bin -0.027748\n",
       "2         p2y12_timediff -0.033396"
      ]
     },
     "execution_count": 37,
     "metadata": {},
     "output_type": "execute_result"
    }
   ],
   "source": [
    "coef_tot.sort_values(by='coef',ascending=False).head()"
   ]
  },
  {
   "cell_type": "markdown",
   "id": "0d4687a2",
   "metadata": {},
   "source": [
    "There is ?? higher likelihood to die with one unit increase in hemo_valuenum, compared to other features"
   ]
  },
  {
   "cell_type": "markdown",
   "id": "a1bbf5f0",
   "metadata": {},
   "source": [
    "**negative features**"
   ]
  },
  {
   "cell_type": "code",
   "execution_count": 38,
   "id": "466220ee",
   "metadata": {},
   "outputs": [
    {
     "data": {
      "text/html": [
       "<div>\n",
       "<style scoped>\n",
       "    .dataframe tbody tr th:only-of-type {\n",
       "        vertical-align: middle;\n",
       "    }\n",
       "\n",
       "    .dataframe tbody tr th {\n",
       "        vertical-align: top;\n",
       "    }\n",
       "\n",
       "    .dataframe thead th {\n",
       "        text-align: right;\n",
       "    }\n",
       "</style>\n",
       "<table border=\"1\" class=\"dataframe\">\n",
       "  <thead>\n",
       "    <tr style=\"text-align: right;\">\n",
       "      <th></th>\n",
       "      <th>variable</th>\n",
       "      <th>coef</th>\n",
       "    </tr>\n",
       "  </thead>\n",
       "  <tbody>\n",
       "    <tr>\n",
       "      <th>4</th>\n",
       "      <td>hemo_difftime</td>\n",
       "      <td>-0.111736</td>\n",
       "    </tr>\n",
       "    <tr>\n",
       "      <th>1</th>\n",
       "      <td>aspirin_timediff</td>\n",
       "      <td>-0.061185</td>\n",
       "    </tr>\n",
       "    <tr>\n",
       "      <th>2</th>\n",
       "      <td>p2y12_timediff</td>\n",
       "      <td>-0.033396</td>\n",
       "    </tr>\n",
       "    <tr>\n",
       "      <th>6</th>\n",
       "      <td>gender_bin</td>\n",
       "      <td>-0.027748</td>\n",
       "    </tr>\n",
       "    <tr>\n",
       "      <th>3</th>\n",
       "      <td>antiplatelet_timediff</td>\n",
       "      <td>0.029590</td>\n",
       "    </tr>\n",
       "  </tbody>\n",
       "</table>\n",
       "</div>"
      ],
      "text/plain": [
       "                variable      coef\n",
       "4          hemo_difftime -0.111736\n",
       "1       aspirin_timediff -0.061185\n",
       "2         p2y12_timediff -0.033396\n",
       "6             gender_bin -0.027748\n",
       "3  antiplatelet_timediff  0.029590"
      ]
     },
     "execution_count": 38,
     "metadata": {},
     "output_type": "execute_result"
    }
   ],
   "source": [
    "coef_tot.sort_values(by='coef').head()"
   ]
  },
  {
   "cell_type": "markdown",
   "id": "4954ab89",
   "metadata": {},
   "source": [
    "There is ?? higher likelihood in delay in hemo treatment,  compared to other features ??"
   ]
  },
  {
   "cell_type": "code",
   "execution_count": 39,
   "id": "3d3c41f8",
   "metadata": {},
   "outputs": [
    {
     "data": {
      "text/plain": [
       "7"
      ]
     },
     "execution_count": 39,
     "metadata": {},
     "output_type": "execute_result"
    }
   ],
   "source": [
    "len(coef_tot)"
   ]
  },
  {
   "cell_type": "markdown",
   "id": "f7484614",
   "metadata": {},
   "source": [
    "### Models"
   ]
  },
  {
   "cell_type": "code",
   "execution_count": 41,
   "id": "748cda02",
   "metadata": {},
   "outputs": [],
   "source": [
    "# Instantiate models\n",
    "models = {'lr': LogisticRegression(max_iter=1000, solver='saga'),\n",
    "        'dt': DecisionTreeClassifier(),\n",
    "        'rf': RandomForestClassifier(),\n",
    "        'et': ExtraTreesClassifier(),\n",
    "        'svc': SVC(probability=True),\n",
    "        } "
   ]
  },
  {
   "cell_type": "code",
   "execution_count": 42,
   "id": "ee17b45a",
   "metadata": {},
   "outputs": [],
   "source": [
    "def run_models(model, model_params):\n",
    "    pipe = Pipeline([\n",
    "            ('scale', StandardScaler()),\n",
    "            ('sampling', SMOTE(sampling_strategy = 'minority')),\n",
    "            (model, models[model])\n",
    "            ])\n",
    "    \n",
    "    grid = GridSearchCV(pipe, param_grid=model_params, cv=3, scoring='roc_auc', n_jobs=-1)\n",
    "    grid.fit(X_train, y_train)\n",
    "\n",
    "    # metrics\n",
    "    train_score = grid.score(X_train, y_train)\n",
    "    test_score = grid.score(X_test, y_test)\n",
    "    preds = grid.predict(X_test)\n",
    "    tn, fp, fn, tp = confusion_matrix(y_test, preds).ravel()\n",
    "  \n",
    "    # View confusion matrix\n",
    "    plot_confusion_matrix(grid, X_test, y_test, cmap='Blues', values_format='d');\n",
    "    \n",
    "    # Calculate the sensitivity/ recall\n",
    "    sens = tp / (tp + fn)\n",
    "    \n",
    "    # Calculate the specificity\n",
    "    spec = tn / (tn + fp) \n",
    "    \n",
    "    # print results\n",
    "    print(f'Best params: {grid.best_params_}')\n",
    "    print(f'Training score: {round(train_score, 4)}')\n",
    "    print(f'Test score: {round(test_score, 4)}')\n",
    "    print(f'Recall: {round(sens, 4)}')\n",
    "    print(f'Specificity: {round(spec, 4)}')\n",
    "    return grid"
   ]
  },
  {
   "cell_type": "markdown",
   "id": "d4cf27cf",
   "metadata": {},
   "source": [
    "**Logistic Regression**"
   ]
  },
  {
   "cell_type": "code",
   "execution_count": 43,
   "id": "8b30631d",
   "metadata": {},
   "outputs": [
    {
     "name": "stdout",
     "output_type": "stream",
     "text": [
      "Best params: {'lr__C': 0.1, 'lr__penalty': 'l1', 'sampling__k_neighbors': 3}\n",
      "Training score: 0.7443\n",
      "Test score: 0.7293\n",
      "Recall: 0.6354\n",
      "Specificity: 0.7291\n"
     ]
    },
    {
     "data": {
      "image/png": "[encoded data removed]",
      "text/plain": [
       "<Figure size 432x288 with 2 Axes>"
      ]
     },
     "metadata": {
      "needs_background": "light"
     },
     "output_type": "display_data"
    }
   ],
   "source": [
    "# logistic regression\n",
    "grid_params = {\n",
    "    'sampling__k_neighbors': [1,2,3],  \n",
    "    'lr__penalty': ['l1', 'l2',  'elasticnet'],   \n",
    "    'lr__C': [0.1, 1]  \n",
    "} \n",
    "\n",
    "lr = run_models('lr', grid_params)"
   ]
  },
  {
   "cell_type": "markdown",
   "id": "b5e9ad18",
   "metadata": {},
   "source": [
    "**Decision Tree Classifier**"
   ]
  },
  {
   "cell_type": "code",
   "execution_count": 44,
   "id": "2ee47063",
   "metadata": {},
   "outputs": [
    {
     "name": "stdout",
     "output_type": "stream",
     "text": [
      "Best params: {'dt__max_depth': 7, 'dt__min_samples_leaf': 8, 'dt__min_samples_split': 8, 'sampling__k_neighbors': 5}\n",
      "Training score: 0.7849\n",
      "Test score: 0.7207\n",
      "Recall: 0.5234\n",
      "Specificity: 0.7977\n"
     ]
    },
    {
     "data": {
      "image/png": "[encoded data removed]",
      "text/plain": [
       "<Figure size 432x288 with 2 Axes>"
      ]
     },
     "metadata": {
      "needs_background": "light"
     },
     "output_type": "display_data"
    }
   ],
   "source": [
    "# decision tree classifier\n",
    "grid_params = {\n",
    "    'sampling__k_neighbors': [4,5,6],  \n",
    "    'dt__max_depth': [7,8,9],\n",
    "    'dt__min_samples_split': [7,8,9],\n",
    "    'dt__min_samples_leaf': [7,8,9],\n",
    "} \n",
    "\n",
    "dt = run_models('dt', grid_params)"
   ]
  },
  {
   "cell_type": "markdown",
   "id": "635043b7",
   "metadata": {},
   "source": [
    "**Random forest classifier**"
   ]
  },
  {
   "cell_type": "code",
   "execution_count": 45,
   "id": "76cebe3d",
   "metadata": {},
   "outputs": [
    {
     "name": "stdout",
     "output_type": "stream",
     "text": [
      "Best params: {'rf__max_depth': 5, 'rf__min_samples_leaf': 8, 'rf__min_samples_split': 7, 'rf__n_estimators': 8, 'sampling__k_neighbors': 7}\n",
      "Training score: 0.7859\n",
      "Test score: 0.7495\n",
      "Recall: 0.6146\n",
      "Specificity: 0.7603\n"
     ]
    },
    {
     "data": {
      "image/png": "[encoded data removed]",
      "text/plain": [
       "<Figure size 432x288 with 2 Axes>"
      ]
     },
     "metadata": {
      "needs_background": "light"
     },
     "output_type": "display_data"
    }
   ],
   "source": [
    "# random forest classifier\n",
    "grid_params = {\n",
    "    'sampling__k_neighbors': [7,8,9],\n",
    "    'rf__n_estimators': [7,8,9],\n",
    "    'rf__max_depth': [5, 8, 9],\n",
    "    'rf__min_samples_split': [7,8,9],\n",
    "    'rf__min_samples_leaf': [7,8,9],\n",
    "} \n",
    "\n",
    "rf = run_models('rf', grid_params)"
   ]
  },
  {
   "cell_type": "markdown",
   "id": "1aa4e493",
   "metadata": {},
   "source": [
    "**Extra trees classifier**"
   ]
  },
  {
   "cell_type": "code",
   "execution_count": 46,
   "id": "476a1a73",
   "metadata": {},
   "outputs": [
    {
     "name": "stdout",
     "output_type": "stream",
     "text": [
      "Best params: {'et__max_depth': 6, 'et__min_samples_leaf': 15, 'et__min_samples_split': 15, 'et__n_estimators': 30, 'sampling__k_neighbors': 20}\n",
      "Training score: 0.7738\n",
      "Test score: 0.7536\n",
      "Recall: 0.6406\n",
      "Specificity: 0.7386\n"
     ]
    },
    {
     "data": {
      "image/png": "[encoded data removed]",
      "text/plain": [
       "<Figure size 432x288 with 2 Axes>"
      ]
     },
     "metadata": {
      "needs_background": "light"
     },
     "output_type": "display_data"
    }
   ],
   "source": [
    "# extra trees classifier\n",
    "grid_params = {\n",
    "    'sampling__k_neighbors': [15, 20, 25],\n",
    "    'et__n_estimators': [30, 35],\n",
    "    'et__max_depth': [4, 5, 6],\n",
    "    'et__min_samples_split': [10, 15],\n",
    "    'et__min_samples_leaf': [10, 15],\n",
    "} \n",
    "\n",
    "et = run_models('et', grid_params)"
   ]
  },
  {
   "cell_type": "markdown",
   "id": "a770133a",
   "metadata": {},
   "source": [
    "**Feature importance**"
   ]
  },
  {
   "cell_type": "code",
   "execution_count": null,
   "id": "e61f2f74",
   "metadata": {},
   "outputs": [],
   "source": []
  },
  {
   "cell_type": "markdown",
   "id": "655131cc",
   "metadata": {},
   "source": [
    "## Plot ROC-AUC "
   ]
  },
  {
   "cell_type": "code",
   "execution_count": 48,
   "id": "671f713b",
   "metadata": {},
   "outputs": [],
   "source": [
    "def plot_all_auc(models):\n",
    "    fig, ax = plt.subplots(figsize=(10,10))\n",
    "    axes = {}\n",
    "    for i, m in enumerate(models.keys()):\n",
    "        axes[f'ax{i}'] = plot_roc_curve(m, X_test, y_test, ax=ax, name=models[m])\n",
    "        \n",
    "    plt.plot([0, 1], [0, 1], color='k', linestyle='--')\n",
    "    plt.title('ROC-AUC curve',fontsize=20)\n",
    "    plt.xlabel('False Positive Rate (FPR)',fontsize=16)\n",
    "    plt.ylabel('True Positive Rate (TPR)',fontsize=16)\n",
    "    plt.legend()"
   ]
  },
  {
   "cell_type": "code",
   "execution_count": 49,
   "id": "b60b92bf",
   "metadata": {},
   "outputs": [
    {
     "data": {
      "image/png": "[encoded data removed]",
      "text/plain": [
       "<Figure size 720x720 with 1 Axes>"
      ]
     },
     "metadata": {
      "needs_background": "light"
     },
     "output_type": "display_data"
    }
   ],
   "source": [
    "models_built = {\n",
    "    lr : 'LogisticRegression', \n",
    "    dt : 'DecisionTreeClassifier',\n",
    "    rf : 'RandomForestClassifier',\n",
    "    et : 'ExtraTreesClassifier',\n",
    "} \n",
    "\n",
    "plot_all_auc(models_built)"
   ]
  },
  {
   "cell_type": "code",
   "execution_count": null,
   "id": "70f6b5bb",
   "metadata": {},
   "outputs": [],
   "source": []
  }
 ],
 "metadata": {
  "kernelspec": {
   "display_name": "Python 3",
   "language": "python",
   "name": "python3"
  },
  "language_info": {
   "codemirror_mode": {
    "name": "ipython",
    "version": 3
   },
   "file_extension": ".py",
   "mimetype": "text/x-python",
   "name": "python",
   "nbconvert_exporter": "python",
   "pygments_lexer": "ipython3",
   "version": "3.8.8"
  },
  "toc": {
   "base_numbering": 1,
   "nav_menu": {},
   "number_sections": true,
   "sideBar": true,
   "skip_h1_title": false,
   "title_cell": "Table of Contents",
   "title_sidebar": "Contents",
   "toc_cell": false,
   "toc_position": {
    "height": "calc(100% - 180px)",
    "left": "10px",
    "top": "150px",
    "width": "170.333px"
   },
   "toc_section_display": true,
   "toc_window_display": true
  }
 },
 "nbformat": 4,
 "nbformat_minor": 5
}
