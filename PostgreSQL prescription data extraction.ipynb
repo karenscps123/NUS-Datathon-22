{
  "nbformat": 4,
  "nbformat_minor": 0,
  "metadata": {
    "colab": {
      "provenance": [],
      "authorship_tag": "ABX9TyOvgRxQSsrSeG6U0aOnsDcb",
      "include_colab_link": true
    },
    "kernelspec": {
      "name": "python3",
      "display_name": "Python 3"
    },
    "language_info": {
      "name": "python"
    }
  },
  "cells": [
    {
      "cell_type": "markdown",
      "metadata": {
        "id": "view-in-github",
        "colab_type": "text"
      },
      "source": [
        "<a href=\"https://colab.research.google.com/github/karenscps123/SHADE-22-Datathon-Team-14/blob/main/PostgreSQL%20prescription%20data%20extraction.ipynb\" target=\"_parent\"><img src=\"https://colab.research.google.com/assets/colab-badge.svg\" alt=\"Open In Colab\"/></a>"
      ]
    },
    {
      "cell_type": "markdown",
      "source": [
        "Creating a table that groups different medication of interest into 3 broader categories. This is due to discrabencies in the documentation of names in the MIMIC IV database."
      ],
      "metadata": {
        "id": "DHUgUqYJIAuH"
      }
    },
    {
      "cell_type": "code",
      "source": [
        "WITH antiplatelet_table AS (\n",
        "\tSELECT\n",
        "\tsubject_id,\n",
        "\tMAX(CASE WHEN drug IN ('Aspi','Aspir','Aspiri','aspirin')\t OR\n",
        "\t\tdrug = 'Aspirin' OR drug =   'Aspirin '   OR\n",
        "\t\tdrug =  'Aspirin (Buffered)' OR  drug = 'Aspirin (Rectal)' OR\n",
        "\t\tdrug =  'Aspirin 325 '  OR drug =   'Aspirin 325 mg' OR\n",
        "\t\tdrug =  'aspirin 325 mg' OR drug =  'Aspirin 325 mg ' OR\n",
        "\t\tdrug = 'Aspirin 325 mg p-o'  OR drug =  'Aspirin 325mg'  OR\n",
        "\t\tdrug =  'Aspirin 325mg ' OR drug =  'Aspirin 325mg TAB' OR\n",
        "\t\tdrug =  'aspirin 81 mg' OR drug =  'Aspirin 81 mg' OR\n",
        "\t\tdrug = 'Aspirin 81 mg ' OR drug =  'Aspirin 81mg' OR\n",
        "\t\tdrug =  'Aspirin 81mg ' OR drug = 'Aspirin 81mg (1cap)' OR\n",
        "\t\tdrug = 'Aspirin 81mg or placbo' OR drug = 'Aspirin 81mg TAB' OR\n",
        "\t\tdrug =  'Aspirin EC' OR drug =  'Aspirin Low Dose' OR\n",
        "\t\tdrug =  'Aspirin Low-Strength' OR drug =  'INV-Aspirin' OR\n",
        "\t\tdrug = 'Enteric Coated Aspirin' \n",
        "\t\tTHEN 1 ELSE 0 END ) as aspirin,\n",
        "\t\n",
        "\tMAX(CASE WHEN drug =  'clopidigrel 75mg' OR drug = 'Clopidigrel 75mg po' OR\n",
        "\t\tdrug =  'clopidogrel' OR drug =  'Clopidogrel' OR\n",
        "\t\tdrug =  'Clopidogrel ' OR drug = 'clopidogrel 150 mg' OR\n",
        "\t\tdrug =  'Clopidogrel 150 mg' OR drug = 'Clopidogrel 150mg' OR\n",
        "\t\tdrug =  'Clopidogrel 75 mg'  OR drug = 'Clopidogrel 75mg' OR\n",
        "\t\tdrug =  'Clopidogrel Bisulfate' OR drug =  'clopidogrel suspension' OR\n",
        "\t\tdrug =   'Clopidogrel75mg'  OR drug = 'Clopidogril 75mg' OR\n",
        "\t\tdrug =  'Clopidopgrel 75mg '   OR drug ='INV-Clopidogrel' OR\n",
        "\t\tdrug =   'Effient'  OR drug = 'Plavix' OR drug =  'prasugrel' OR\n",
        "\t\tdrug ='Prasugrel' \n",
        "\t\tTHEN 1 ELSE 0 END ) as clopidogrel,\n",
        "\t\n",
        "\tMAX(CASE WHEN drug =  'Cangrelor' OR drug =   'Brilinta' OR\n",
        "\t\tdrug =  'ticagrelor' OR drug =   'Ticlopidine HCl' \n",
        "\t\tTHEN 1 ELSE 0 END ) as ticagrelor,\n",
        "\t\n",
        "\t subject_id, min(starttime)\n",
        "FROM mimiciv_hosp.prescriptions\n",
        "WHERE drug =   'aspirin'\n",
        "group by subject_id;\n",
        "\tFROM mimiciv_hosp.prescriptions\n",
        "\tGROUP BY subject_id\n",
        ")\n",
        "SELECT \n",
        "subject_id,\n",
        "aspirin,\n",
        "clopidogrel,\n",
        "ticagrelor\n",
        "FROM antiplatelet_table;"
      ],
      "metadata": {
        "id": "J_HVvBGXHu0h"
      },
      "execution_count": null,
      "outputs": []
    },
    {
      "cell_type": "markdown",
      "source": [
        "Grouping medications under aspirin, clopidogrel and other_antiplatelet categories, and electing specific drugs under the aspirin, clopidogrel and other_antiplatelet categories only. (together with patient ID, start and stop time of when the medications are administered."
      ],
      "metadata": {
        "id": "yKm1rlVfICYF"
      }
    },
    {
      "cell_type": "code",
      "execution_count": null,
      "metadata": {
        "id": "ne1D1gLLGYGw"
      },
      "outputs": [],
      "source": [
        "SELECT subject_id, \n",
        "\t(CASE WHEN drug IN ('Aspi','Aspir','Aspiri','aspirin')\t OR\n",
        "\t\tdrug = 'Aspirin' OR drug =   'Aspirin '   OR\n",
        "\t\tdrug =  'Aspirin (Buffered)' OR  drug = 'Aspirin (Rectal)' OR\n",
        "\t\tdrug =  'Aspirin 325 '  OR drug =   'Aspirin 325 mg' OR\n",
        "\t\tdrug =  'aspirin 325 mg' OR drug =  'Aspirin 325 mg ' OR\n",
        "\t\tdrug = 'Aspirin 325 mg p-o'  OR drug =  'Aspirin 325mg'  OR\n",
        "\t\tdrug =  'Aspirin 325mg ' OR drug =  'Aspirin 325mg TAB' OR\n",
        "\t\tdrug =  'aspirin 81 mg' OR drug =  'Aspirin 81 mg' OR\n",
        "\t\tdrug = 'Aspirin 81 mg ' OR drug =  'Aspirin 81mg' OR\n",
        "\t\tdrug =  'Aspirin 81mg ' OR drug = 'Aspirin 81mg (1cap)' OR\n",
        "\t\tdrug = 'Aspirin 81mg or placbo' OR drug = 'Aspirin 81mg TAB' OR\n",
        "\t\tdrug =  'Aspirin EC' OR drug =  'Aspirin Low Dose' OR\n",
        "\t\tdrug =  'Aspirin Low-Strength' OR drug =  'INV-Aspirin' OR\n",
        "\t\tdrug = 'Enteric Coated Aspirin' \n",
        "\t\tTHEN aspirin,\n",
        "\t\n",
        "\tCASE WHEN drug =  'clopidigrel 75mg' OR drug = 'Clopidigrel 75mg po' OR\n",
        "\t\tdrug =  'clopidogrel' OR drug =  'Clopidogrel' OR\n",
        "\t\tdrug =  'Clopidogrel ' OR drug = 'clopidogrel 150 mg' OR\n",
        "\t\tdrug =  'Clopidogrel 150 mg' OR drug = 'Clopidogrel 150mg' OR\n",
        "\t\tdrug =  'Clopidogrel 75 mg'  OR drug = 'Clopidogrel 75mg' OR\n",
        "\t\tdrug =  'Clopidogrel Bisulfate' OR drug =  'clopidogrel suspension' OR\n",
        "\t\tdrug =   'Clopidogrel75mg'  OR drug = 'Clopidogril 75mg' OR\n",
        "\t\tdrug =  'Clopidopgrel 75mg '   OR drug ='INV-Clopidogrel' OR\n",
        "\t\tdrug =   'Effient'  OR drug = 'Plavix' OR drug =  'prasugrel' OR\n",
        "\t\tdrug ='Prasugrel' \n",
        "\t\tTHEN clopidogrel,\n",
        "\t\n",
        "\tCASE WHEN drug =  'Cangrelor' OR drug =   'Brilinta' OR\n",
        "\t\tdrug =  'ticagrelor' OR drug =   'Ticlopidine HCl' \n",
        "\t\tTHEN  ticagrelor,\n",
        "\t\tEND ) AS other_antiplatelet,\n",
        "\t\t\n",
        "\t\tstarttime, stoptime,\n",
        "\t \n",
        "FROM mimiciv_hosp.prescriptions\n",
        "WHEN (drug IN ('Aspi','Aspir','Aspiri','aspirin')\t OR\n",
        "\t\tdrug = 'Aspirin' OR drug =   'Aspirin '   OR\n",
        "\t\tdrug =  'Aspirin (Buffered)' OR  drug = 'Aspirin (Rectal)' OR\n",
        "\t\tdrug =  'Aspirin 325 '  OR drug =   'Aspirin 325 mg' OR\n",
        "\t\tdrug =  'aspirin 325 mg' OR drug =  'Aspirin 325 mg ' OR\n",
        "\t\tdrug = 'Aspirin 325 mg p-o'  OR drug =  'Aspirin 325mg'  OR\n",
        "\t\tdrug =  'Aspirin 325mg ' OR drug =  'Aspirin 325mg TAB' OR\n",
        "\t\tdrug =  'aspirin 81 mg' OR drug =  'Aspirin 81 mg' OR\n",
        "\t\tdrug = 'Aspirin 81 mg ' OR drug =  'Aspirin 81mg' OR\n",
        "\t\tdrug =  'Aspirin 81mg ' OR drug = 'Aspirin 81mg (1cap)' OR\n",
        "\t\tdrug = 'Aspirin 81mg or placbo' OR drug = 'Aspirin 81mg TAB' OR\n",
        "\t\tdrug =  'Aspirin EC' OR drug =  'Aspirin Low Dose' OR\n",
        "\t\tdrug =  'Aspirin Low-Strength' OR drug =  'INV-Aspirin' OR\n",
        "\t\tdrug = 'Enteric Coated Aspirin' OR drug =  'clopidigrel 75mg' OR drug = 'Clopidigrel 75mg po' OR\n",
        "\t\tdrug =  'clopidogrel' OR drug =  'Clopidogrel' OR\n",
        "\t\tdrug =  'Clopidogrel ' OR drug = 'clopidogrel 150 mg' OR\n",
        "\t\tdrug =  'Clopidogrel 150 mg' OR drug = 'Clopidogrel 150mg' OR\n",
        "\t\tdrug =  'Clopidogrel 75 mg'  OR drug = 'Clopidogrel 75mg' OR\n",
        "\t\tdrug =  'Clopidogrel Bisulfate' OR drug =  'clopidogrel suspension' OR\n",
        "\t\tdrug =   'Clopidogrel75mg'  OR drug = 'Clopidogril 75mg' OR\n",
        "\t\tdrug =  'Clopidopgrel 75mg '   OR drug ='INV-Clopidogrel' OR\n",
        "\t\tdrug =   'Effient'  OR drug = 'Plavix' OR drug =  'prasugrel' OR\n",
        "\t\tdrug ='Prasugrel' drug =  'Cangrelor' OR drug =   'Brilinta' OR\n",
        "\t\tdrug =  'ticagrelor' OR drug =   'Ticlopidine HCl') ;"
      ]
    }
  ]
}